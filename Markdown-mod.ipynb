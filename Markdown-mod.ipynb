{
 "cells": [
  {
   "cell_type": "markdown",
   "metadata": {},
   "source": [
    "## Nascondere il codice"
   ]
  },
  {
   "cell_type": "code",
   "execution_count": 7,
   "metadata": {},
   "outputs": [],
   "source": [
    "from IPython.display import HTML"
   ]
  },
  {
   "cell_type": "code",
   "execution_count": 8,
   "metadata": {},
   "outputs": [
    {
     "data": {
      "text/html": [
       "<script>\n",
       "code_show=true; \n",
       "function code_toggle() {\n",
       " if (code_show){\n",
       " $('div.input').hide();\n",
       " } else {\n",
       " $('div.input').show();\n",
       " }\n",
       " code_show = !code_show\n",
       "} \n",
       "$( document ).ready(code_toggle);\n",
       "</script>\n",
       "The raw code for this IPython notebook is by default hidden for easier reading.\n",
       "To toggle on/off the raw code, click <a href=\"javascript:code_toggle()\">here</a>."
      ],
      "text/plain": [
       "<IPython.core.display.HTML object>"
      ]
     },
     "execution_count": 8,
     "metadata": {},
     "output_type": "execute_result"
    }
   ],
   "source": [
    "HTML('''<script>\n",
    "code_show=true; \n",
    "function code_toggle() {\n",
    " if (code_show){\n",
    " $('div.input').hide();\n",
    " } else {\n",
    " $('div.input').show();\n",
    " }\n",
    " code_show = !code_show\n",
    "} \n",
    "$( document ).ready(code_toggle);\n",
    "</script>\n",
    "The raw code for this IPython notebook is by default hidden for easier reading.\n",
    "To toggle on/off the raw code, click <a href=\"javascript:code_toggle()\">here</a>.''')"
   ]
  },
  {
   "cell_type": "markdown",
   "metadata": {},
   "source": [
    "## Celle di Markdown vs Celle di codice (cells)\n",
    "- Celle di codice con numero e parentesi quadre\n",
    "- Il tipo selezionato si puo' vedere dal menu' a tendina qui sopra"
   ]
  },
  {
   "cell_type": "markdown",
   "metadata": {},
   "source": [
    "## Titoli"
   ]
  },
  {
   "cell_type": "markdown",
   "metadata": {},
   "source": [
    "# Titolo livello 1\n",
    "## Titolo livello 2\n",
    "### Titolo livello 3\n",
    "#### Titolo livello 4\n",
    "Paragrafi di testo senza cancelletto"
   ]
  },
  {
   "cell_type": "markdown",
   "metadata": {},
   "source": [
    "## Formattazione del testo\n",
    "*corsivo*\n",
    "\n",
    "_corsivo_\n",
    "\n",
    "**grassetto**\n",
    "\n",
    "__grassetto__\n",
    "\n",
    "~~Testo Cancellato~~"
   ]
  },
  {
   "cell_type": "markdown",
   "metadata": {},
   "source": [
    "## Linee"
   ]
  },
  {
   "cell_type": "markdown",
   "metadata": {},
   "source": [
    "***"
   ]
  },
  {
   "cell_type": "markdown",
   "metadata": {},
   "source": [
    "## Indentazione"
   ]
  },
  {
   "cell_type": "markdown",
   "metadata": {},
   "source": [
    "for i in range(1,11):\n",
    "> print(i)\n",
    "\n",
    "> if i == 5:\n",
    ">>break"
   ]
  },
  {
   "cell_type": "markdown",
   "metadata": {},
   "source": [
    "## Usare i links"
   ]
  },
  {
   "cell_type": "markdown",
   "metadata": {},
   "source": [
    "[Mia Home Page](https://alessiomalizia.wordpress.com/)"
   ]
  },
  {
   "cell_type": "markdown",
   "metadata": {},
   "source": [
    "## liste di elementi numerati e sottoliste"
   ]
  },
  {
   "cell_type": "markdown",
   "metadata": {},
   "source": [
    "1. Capitolo 1\n",
    "2. Capitolo 2\n",
    "3. Capitolo 3"
   ]
  },
  {
   "cell_type": "markdown",
   "metadata": {},
   "source": [
    "1. Capitolo 1\n",
    "    1. Sezione 1.1\n",
    "    2. Sezione 1.2\n",
    "2. Capitolo 2\n",
    "    1. Sezione 2.1\n",
    "    2. Sezione 2.2"
   ]
  },
  {
   "cell_type": "markdown",
   "metadata": {},
   "source": [
    "## Tabelle\n",
    "- separatore di colonne '|'\n",
    "- numero caratteri per colonna '-'\n",
    "- allineamento\n",
    "    - ':---' a sinistra\n",
    "    - '---:' a destra\n",
    "    - ':---:' centrato"
   ]
  },
  {
   "cell_type": "markdown",
   "metadata": {},
   "source": [
    "Tipo di prodotto | Quantita' venduta | Prezzo unitario £\n",
    ":---------|-----:|-----:\n",
    "mouse|50|15\n",
    "laptop|40|899\n",
    "stampante|30|200"
   ]
  },
  {
   "cell_type": "markdown",
   "metadata": {},
   "source": [
    "### Per allineare l'intera tabella a sinistra si usa html messo nelle celle di tipo codice"
   ]
  },
  {
   "cell_type": "code",
   "execution_count": 1,
   "metadata": {},
   "outputs": [
    {
     "data": {
      "text/html": [
       "<style>\n",
       "table {float:left}\n",
       "</style>\n"
      ],
      "text/plain": [
       "<IPython.core.display.HTML object>"
      ]
     },
     "metadata": {},
     "output_type": "display_data"
    }
   ],
   "source": [
    "%%html\n",
    "<style>\n",
    "table {float:left}\n",
    "</style>"
   ]
  },
  {
   "cell_type": "markdown",
   "metadata": {},
   "source": [
    "Tipo di prodotto | Quantita' venduta | Prezzo unitario £\n",
    ":---------|-----:|-----:\n",
    "mouse|50|15\n",
    "laptop|40|899\n",
    "stampante|30|200"
   ]
  },
  {
   "cell_type": "markdown",
   "metadata": {},
   "source": [
    "## Immagini in locale o su Web"
   ]
  },
  {
   "cell_type": "markdown",
   "metadata": {},
   "source": [
    "![Immagine su disco](bigben.jpg)\n",
    "\n",
    "![Immagine su Web](https://www.csee-etuce.org/images/Pictures/Pisa_Smaller.jpg)\n",
    "\n",
    "<img src=\"https://upload.wikimedia.org/wikipedia/commons/thumb/9/92/Gran_V%C3%ADa_%28Madrid%29_1.jpg/1280px-Gran_V%C3%ADa_%28Madrid%29_1.jpg\" alt=\"Madrid\" width=\"800\" height=\"900\">"
   ]
  },
  {
   "cell_type": "markdown",
   "metadata": {},
   "source": [
    "## Formule e lettere greche in Latex\n",
    "- Ambiente Latex con simboli di dollaro \n",
    "- \\ nome lettera greca \n",
    "    - $\\alpha, \\beta, \\gamma$, ...\n",
    "- Tutorial https://latex-tutorial.com/tutorials/amsmath/\n"
   ]
  },
  {
   "cell_type": "markdown",
   "metadata": {},
   "source": [
    "$$\n",
    "\\frac{arg 1}{arg 2} \\\\\n",
    "x^2\\\\\n",
    "e^{i\\pi}\\\\\n",
    "A_i\\\\\n",
    "B_{ij}\\\\\n",
    "\\sqrt[n]{arg}\t\n",
    "$$"
   ]
  },
  {
   "cell_type": "markdown",
   "metadata": {},
   "source": [
    "Dato : $\\pi = 3.14$ , $\\alpha = \\frac{3\\pi}{4}\\, rad$\n",
    "$$\n",
    "\\omega = 2\\pi f \\\\\n",
    "f = \\frac{c}{\\lambda}\\\\\n",
    "\\lambda_0=\\theta^2+\\delta\\\\\n",
    "\\Delta\\lambda = \\frac{1}{\\lambda^2}\n",
    "$$"
   ]
  },
  {
   "cell_type": "code",
   "execution_count": null,
   "metadata": {},
   "outputs": [],
   "source": []
  }
 ],
 "metadata": {
  "kernelspec": {
   "display_name": "Python 3",
   "language": "python",
   "name": "python3"
  },
  "language_info": {
   "codemirror_mode": {
    "name": "ipython",
    "version": 3
   },
   "file_extension": ".py",
   "mimetype": "text/x-python",
   "name": "python",
   "nbconvert_exporter": "python",
   "pygments_lexer": "ipython3",
   "version": "3.8.5"
  }
 },
 "nbformat": 4,
 "nbformat_minor": 4
}
